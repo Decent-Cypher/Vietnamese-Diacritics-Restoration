{
  "cells": [
    {
      "cell_type": "markdown",
      "metadata": {
        "id": "5xmUMuPbDlSo"
      },
      "source": [
        "## **Data Preprocessing**"
      ]
    },
    {
      "cell_type": "markdown",
      "source": [
        "### Import the data"
      ],
      "metadata": {
        "id": "I0_Kw0nEbMD1"
      }
    },
    {
      "cell_type": "code",
      "execution_count": 1,
      "metadata": {
        "id": "X7qfJz_RDn9O"
      },
      "outputs": [],
      "source": [
        "import pickle as pkl\n",
        "with open('/content/drive/MyDrive/Datasets/Vietnamese Diacritics Restoration/train_X_2500k.pkl', 'rb') as f:\n",
        "  input_texts = pkl.load(f)\n",
        "with open('/content/drive/MyDrive/Datasets/Vietnamese Diacritics Restoration/train_Y_2500k.pkl', 'rb') as f:\n",
        "  target_texts = pkl.load(f)"
      ]
    },
    {
      "cell_type": "markdown",
      "source": [
        "### Remove diacritics"
      ],
      "metadata": {
        "id": "pS8QgrAsbRn_"
      }
    },
    {
      "cell_type": "code",
      "execution_count": 2,
      "metadata": {
        "colab": {
          "base_uri": "https://localhost:8080/"
        },
        "id": "BBtSJprqVMow",
        "outputId": "a4514f02-e230-4a97-dc88-2f2e3af66412"
      },
      "outputs": [
        {
          "output_type": "stream",
          "name": "stdout",
          "text": [
            "da nang?\n"
          ]
        }
      ],
      "source": [
        "import unicodedata\n",
        "\n",
        "REMOVE_DIACRITIC_TABLE = str.maketrans(\n",
        "    \"ÁÀẢÃẠĂẮẰẲẴẶÂẤẦẨẪẬĐÈÉẺẼẸÊẾỀỂỄỆÍÌỈĨỊÓÒỎÕỌÔỐỒỔỖỘƠỚỜỞỠỢÚÙỦŨỤƯỨỪỬỮỰÝỲỶỸỴáàảãạăắằẳẵặâấầẩẫậđèéẻẽẹêếềểễệíìỉĩịóòỏõọôốồổỗộơớờởỡợúùủũụưứừửữựýỳỷỹỵ\",\n",
        "    \"A\" * 17 + \"D\" + \"E\" * 11 + \"I\" * 5 + \"O\" * 17 + \"U\" * 11 + \"Y\" * 5 + \"a\" * 17 + \"d\" + \"e\" * 11 + \"i\" * 5 + \"o\" * 17 + \"u\" * 11 + \"y\" * 5\n",
        ")\n",
        "\n",
        "\n",
        "def remove_diacritic(txt: str) -> str:\n",
        "    if not unicodedata.is_normalized(\"NFC\", txt):\n",
        "        txt = unicodedata.normalize(\"NFC\", txt)\n",
        "    return txt.translate(REMOVE_DIACRITIC_TABLE)\n",
        "\n",
        "print(remove_diacritic(\"Đà Nẵng?\").lower())"
      ]
    },
    {
      "cell_type": "code",
      "execution_count": 3,
      "metadata": {
        "id": "PrGt4cufVV9h"
      },
      "outputs": [],
      "source": [
        "# Lower the text from input and output\n",
        "input_temp = []\n",
        "target_temp = []\n",
        "for index in range(len(input_texts)):\n",
        "  if len(input_texts[index].split()) < 100:\n",
        "    input_temp.append(input_texts[index])\n",
        "    target_temp.append(target_texts[index])\n",
        "\n",
        "input_texts = input_temp\n",
        "target_texts = target_temp"
      ]
    },
    {
      "cell_type": "markdown",
      "source": [
        "### Tokenize"
      ],
      "metadata": {
        "id": "g1uF8UphbW6l"
      }
    },
    {
      "cell_type": "code",
      "execution_count": 4,
      "metadata": {
        "id": "ZErJjBipVi4N"
      },
      "outputs": [],
      "source": [
        "import tensorflow as tf\n",
        "from keras.preprocessing.text import Tokenizer\n",
        "from keras.preprocessing.sequence import pad_sequences"
      ]
    },
    {
      "cell_type": "code",
      "execution_count": 5,
      "metadata": {
        "id": "nD5P884aVqi_"
      },
      "outputs": [],
      "source": [
        "# Tokenize the inputs\n",
        "MAX_NUM_WORDS = 100000\n",
        "tokenizer_input = Tokenizer(num_words=MAX_NUM_WORDS)\n",
        "tokenizer_input.fit_on_texts(input_texts)\n",
        "input_sequences = tokenizer_input.texts_to_sequences(input_texts)"
      ]
    },
    {
      "cell_type": "markdown",
      "source": [
        "### Get the mapping from input-to-index and padding sequences"
      ],
      "metadata": {
        "id": "UgS068mAbbqU"
      }
    },
    {
      "cell_type": "code",
      "execution_count": 6,
      "metadata": {
        "colab": {
          "base_uri": "https://localhost:8080/"
        },
        "id": "Bo_k4V3TV6PD",
        "outputId": "d3ff8df5-aa29-411b-c50f-ba9b910cceae"
      },
      "outputs": [
        {
          "output_type": "stream",
          "name": "stdout",
          "text": [
            "Found 97115 unique tokens.\n"
          ]
        }
      ],
      "source": [
        "# Get the word to index mapping for input\n",
        "word2idx_input = tokenizer_input.word_index\n",
        "print('Found %s unique tokens.' % len(word2idx_input))"
      ]
    },
    {
      "cell_type": "code",
      "execution_count": 7,
      "metadata": {
        "colab": {
          "base_uri": "https://localhost:8080/"
        },
        "id": "Ah01kwKpWETe",
        "outputId": "b7f3247c-20fb-40c2-99e5-553a2b908bd6"
      },
      "outputs": [
        {
          "output_type": "stream",
          "name": "stdout",
          "text": [
            "Max input length: 118\n"
          ]
        }
      ],
      "source": [
        "# determine max length input sequence\n",
        "max_len_input = max(len(s) for s in input_sequences)\n",
        "print('Max input length:', max_len_input)"
      ]
    },
    {
      "cell_type": "code",
      "execution_count": 8,
      "metadata": {
        "colab": {
          "base_uri": "https://localhost:8080/"
        },
        "id": "LuiHb13YWJAW",
        "outputId": "3cea635a-4706-4ee2-e0b2-b4173c7ffc3b"
      },
      "outputs": [
        {
          "output_type": "stream",
          "name": "stdout",
          "text": [
            "Shape of input tensor: (2489849, 118)\n"
          ]
        }
      ],
      "source": [
        "# pad the sequences to NxT matrix\n",
        "input_sequences = pad_sequences(input_sequences, maxlen=max_len_input, padding='post', value=0)\n",
        "print('Shape of input tensor:', input_sequences.shape)\n",
        "# [1, 2, 1, 3, 0, 0] max_len_input = 6"
      ]
    },
    {
      "cell_type": "code",
      "execution_count": 9,
      "metadata": {
        "id": "HzNddUqKWdLF"
      },
      "outputs": [],
      "source": [
        "# Create a mapping from targets to target labels\n",
        "import re\n",
        "def remove_punctuation(text: str) -> str:\n",
        "    return re.sub(r'[^\\w\\s]', '', text)"
      ]
    },
    {
      "cell_type": "code",
      "execution_count": 10,
      "metadata": {
        "id": "5_7EAZ9ZWsHE"
      },
      "outputs": [],
      "source": [
        "target_texts = [remove_punctuation(txt) for txt in target_texts]"
      ]
    },
    {
      "cell_type": "code",
      "source": [
        "print(len(input_texts))\n",
        "print(len(target_texts))"
      ],
      "metadata": {
        "colab": {
          "base_uri": "https://localhost:8080/"
        },
        "id": "_7M65fvLlW9a",
        "outputId": "ef031795-c56e-4877-ee2d-181007823b38"
      },
      "execution_count": 11,
      "outputs": [
        {
          "output_type": "stream",
          "name": "stdout",
          "text": [
            "2489849\n",
            "2489849\n"
          ]
        }
      ]
    },
    {
      "cell_type": "markdown",
      "source": [
        "### Word to Index Dictionary"
      ],
      "metadata": {
        "id": "iDhQQFZR_zaM"
      }
    },
    {
      "cell_type": "code",
      "source": [
        "with open('/content/drive/MyDrive/Datasets/Vietnamese Diacritics Restoration/all-vietnamese-syllables.txt', 'r', encoding='utf-8') as f:\n",
        "  all_syllables = f.read().split('\\n')"
      ],
      "metadata": {
        "id": "IdH7XEZu_8AQ"
      },
      "execution_count": 12,
      "outputs": []
    },
    {
      "cell_type": "code",
      "execution_count": 13,
      "metadata": {
        "id": "CfINPpG3WocC"
      },
      "outputs": [],
      "source": [
        "word2idx = {}\n",
        "for text in target_texts:\n",
        "  data = text.split(' ')\n",
        "  for word in data:\n",
        "    remove_diacritic_word = remove_diacritic(word)\n",
        "    if remove_diacritic_word not in word2idx:\n",
        "      word2idx[remove_diacritic_word] = {word: 1}\n",
        "    else:\n",
        "      if word not in word2idx[remove_diacritic_word]:\n",
        "        word2idx[remove_diacritic_word][word] = len(word2idx[remove_diacritic_word]) + 1"
      ]
    },
    {
      "cell_type": "code",
      "source": [
        "for word in all_syllables:\n",
        "  remove_diacritic_word = remove_diacritic(word)\n",
        "  if remove_diacritic_word not in word2idx:\n",
        "    word2idx[remove_diacritic_word] = {word: 1}\n",
        "  else:\n",
        "    if word not in word2idx[remove_diacritic_word]:\n",
        "      word2idx[remove_diacritic_word][word] = len(word2idx[remove_diacritic_word]) + 1"
      ],
      "metadata": {
        "id": "iv14iPGAAk8s"
      },
      "execution_count": 14,
      "outputs": []
    },
    {
      "cell_type": "code",
      "source": [
        "len(word2idx)"
      ],
      "metadata": {
        "id": "8QiVI1TNAzXX",
        "colab": {
          "base_uri": "https://localhost:8080/"
        },
        "outputId": "6e794458-48bc-4f3b-f769-d3ded16dc4b2"
      },
      "execution_count": 15,
      "outputs": [
        {
          "output_type": "execute_result",
          "data": {
            "text/plain": [
              "152233"
            ]
          },
          "metadata": {},
          "execution_count": 15
        }
      ]
    },
    {
      "cell_type": "markdown",
      "metadata": {
        "id": "CCQCS1AGrDxq"
      },
      "source": [
        "### Padding the target sequences"
      ]
    },
    {
      "cell_type": "code",
      "execution_count": 16,
      "metadata": {
        "id": "DW_8CY0aXlrN"
      },
      "outputs": [],
      "source": [
        "target_labels = []\n",
        "for text in target_texts:\n",
        "  label = []\n",
        "  data = text.split(' ')\n",
        "  for word in data:\n",
        "    remove_diacritic_word = remove_diacritic(word)\n",
        "    label.append(word2idx[remove_diacritic_word][word])\n",
        "  target_labels.append(label)"
      ]
    },
    {
      "cell_type": "code",
      "execution_count": 17,
      "metadata": {
        "id": "hW6h5BpgX3Ze",
        "colab": {
          "base_uri": "https://localhost:8080/"
        },
        "outputId": "194f128e-baae-4715-9bb0-43e5744d861c"
      },
      "outputs": [
        {
          "output_type": "stream",
          "name": "stdout",
          "text": [
            "Shape of target tensor: (2489849, 118)\n"
          ]
        }
      ],
      "source": [
        "target_labels = pad_sequences(target_labels, maxlen=max_len_input, padding='post', value=0)\n",
        "print('Shape of target tensor:', target_labels.shape)"
      ]
    },
    {
      "cell_type": "code",
      "execution_count": 18,
      "metadata": {
        "id": "_dV-hKutZSEr"
      },
      "outputs": [],
      "source": [
        "num_labels = max(max(label) for label in target_labels) + 1"
      ]
    },
    {
      "cell_type": "code",
      "execution_count": 19,
      "metadata": {
        "id": "-Li1Jnc-ZtSM",
        "colab": {
          "base_uri": "https://localhost:8080/"
        },
        "outputId": "612439b1-d9a5-4a62-c0c7-366cde8c9308"
      },
      "outputs": [
        {
          "output_type": "execute_result",
          "data": {
            "text/plain": [
              "37"
            ]
          },
          "metadata": {},
          "execution_count": 19
        }
      ],
      "source": [
        "num_labels"
      ]
    },
    {
      "cell_type": "markdown",
      "metadata": {
        "id": "x_9EnN-prXey"
      },
      "source": [
        "### Create an index-to-word Dictionary"
      ]
    },
    {
      "cell_type": "code",
      "execution_count": 20,
      "metadata": {
        "id": "E7Ap6VJCd9Um"
      },
      "outputs": [],
      "source": [
        "idx2word = {}\n",
        "for key in word2idx.keys():\n",
        "  idx2word[key] = {}\n",
        "  for word in word2idx[key].keys():\n",
        "    idx2word[key][word2idx[key][word]] = word"
      ]
    },
    {
      "cell_type": "markdown",
      "metadata": {
        "id": "OD805tgeYI1W"
      },
      "source": [
        "## **Deploy the model**"
      ]
    },
    {
      "cell_type": "code",
      "execution_count": 21,
      "metadata": {
        "id": "x4IB7qQSYLum"
      },
      "outputs": [],
      "source": [
        "import tensorflow as tf\n",
        "import numpy as np\n",
        "import matplotlib.pyplot as plt\n",
        "import keras"
      ]
    },
    {
      "cell_type": "code",
      "execution_count": 22,
      "metadata": {
        "id": "dLcC0WnYYQgD"
      },
      "outputs": [],
      "source": [
        "num_words = min(MAX_NUM_WORDS, len(word2idx_input) + 1)"
      ]
    },
    {
      "cell_type": "markdown",
      "metadata": {
        "id": "SgFfZrjPCn1Q"
      },
      "source": [
        "### Positional Encoding"
      ]
    },
    {
      "cell_type": "code",
      "execution_count": 23,
      "metadata": {
        "id": "Mq2A9MI3CqQL"
      },
      "outputs": [],
      "source": [
        "def positional_encoding(length, depth):\n",
        "  depth = depth/2\n",
        "\n",
        "  positions = np.arange(length)[:, np.newaxis]     # (seq, 1)\n",
        "  depths = np.arange(depth)[np.newaxis, :]/depth   # (1, depth)\n",
        "\n",
        "  angle_rates = 1 / (10000**depths)         # (1, depth)\n",
        "  angle_rads = positions * angle_rates      # (pos, depth)\n",
        "\n",
        "  pos_encoding = np.concatenate(\n",
        "      [np.sin(angle_rads), np.cos(angle_rads)],\n",
        "      axis=-1)\n",
        "\n",
        "  return tf.cast(pos_encoding, dtype=tf.float32)"
      ]
    },
    {
      "cell_type": "code",
      "execution_count": 24,
      "metadata": {
        "id": "LvjGyeujCwC0"
      },
      "outputs": [],
      "source": [
        "@tf.keras.saving.register_keras_serializable()\n",
        "class PositionalEmbedding(tf.keras.layers.Layer):\n",
        "  def __init__(self, vocab_size, d_model):\n",
        "    super().__init__()\n",
        "    self.d_model = d_model\n",
        "    self.embedding = tf.keras.layers.Embedding(vocab_size, d_model, mask_zero=True)\n",
        "    self.pos_encoding = positional_encoding(length=2048, depth=d_model)\n",
        "\n",
        "  def compute_mask(self, *args, **kwargs):\n",
        "    return self.embedding.compute_mask(*args, **kwargs)\n",
        "\n",
        "  def call(self, x):\n",
        "    length = tf.shape(x)[1]\n",
        "    x = self.embedding(x)\n",
        "    # This factor sets the relative scale of the embedding and positonal_encoding.\n",
        "    x *= tf.math.sqrt(tf.cast(self.d_model, tf.float32))\n",
        "    x = x + self.pos_encoding[tf.newaxis, :length, :]\n",
        "    return x"
      ]
    },
    {
      "cell_type": "markdown",
      "metadata": {
        "id": "WoO-f0QAC6pw"
      },
      "source": [
        "### Base Attention Layer"
      ]
    },
    {
      "cell_type": "code",
      "execution_count": 25,
      "metadata": {
        "id": "jHHID-jsC8W7"
      },
      "outputs": [],
      "source": [
        "@tf.keras.saving.register_keras_serializable()\n",
        "class BaseAttention(tf.keras.layers.Layer):\n",
        "  def __init__(self, **kwargs):\n",
        "    super().__init__()\n",
        "    self.mha = tf.keras.layers.MultiHeadAttention(**kwargs)\n",
        "    self.layernorm = tf.keras.layers.LayerNormalization(epsilon=1e-7)\n",
        "    self.add = tf.keras.layers.Add()"
      ]
    },
    {
      "cell_type": "code",
      "execution_count": 26,
      "metadata": {
        "id": "fAsw3W1xDAYd"
      },
      "outputs": [],
      "source": [
        "# Global attention layer\n",
        "@tf.keras.saving.register_keras_serializable()\n",
        "class GlobalSelfAttention(BaseAttention):\n",
        "  def call(self, x):\n",
        "    attn_output = self.mha(\n",
        "        query=x,\n",
        "        value=x,\n",
        "        key=x)\n",
        "    x = self.add([x, attn_output])\n",
        "    x = self.layernorm(x)\n",
        "    return x\n"
      ]
    },
    {
      "cell_type": "markdown",
      "metadata": {
        "id": "MgWvxhXFDKX5"
      },
      "source": [
        "### FeedForward Network"
      ]
    },
    {
      "cell_type": "code",
      "execution_count": 27,
      "metadata": {
        "id": "RN1Fv4N1DMVy"
      },
      "outputs": [],
      "source": [
        "@tf.keras.saving.register_keras_serializable()\n",
        "class FeedForward(tf.keras.layers.Layer):\n",
        "  def __init__(self, d_model, dff, dropout_rate=0.1):\n",
        "    super().__init__()\n",
        "    self.seq = tf.keras.Sequential([\n",
        "      tf.keras.layers.Dense(dff, activation='relu'),\n",
        "      tf.keras.layers.Dense(d_model),\n",
        "      tf.keras.layers.Dropout(dropout_rate)\n",
        "    ])\n",
        "    self.add = tf.keras.layers.Add()\n",
        "    self.layer_norm = tf.keras.layers.LayerNormalization(epsilon=1e-7)\n",
        "\n",
        "  def call(self, x):\n",
        "    x = self.add([x, self.seq(x)])\n",
        "    x = self.layer_norm(x)\n",
        "    return x"
      ]
    },
    {
      "cell_type": "markdown",
      "metadata": {
        "id": "RXkNJIzfDRNo"
      },
      "source": [
        "### Encoder Layer"
      ]
    },
    {
      "cell_type": "code",
      "execution_count": 28,
      "metadata": {
        "id": "znPzQzdLDPtT"
      },
      "outputs": [],
      "source": [
        "@tf.keras.saving.register_keras_serializable()\n",
        "class EncoderLayer(tf.keras.layers.Layer):\n",
        "  def __init__(self,*, d_model, num_heads, dff, dropout_rate=0.1):\n",
        "    super().__init__()\n",
        "\n",
        "    self.self_attention = GlobalSelfAttention(\n",
        "        num_heads=num_heads,\n",
        "        key_dim=d_model,\n",
        "        dropout=dropout_rate)\n",
        "\n",
        "    self.ffn = FeedForward(d_model, dff)\n",
        "\n",
        "  def call(self, x):\n",
        "    x = self.self_attention(x)\n",
        "    x = self.ffn(x)\n",
        "    return x"
      ]
    },
    {
      "cell_type": "markdown",
      "metadata": {
        "id": "0hmBc0jjDXa4"
      },
      "source": [
        "### **Encoder**"
      ]
    },
    {
      "cell_type": "code",
      "execution_count": 29,
      "metadata": {
        "id": "OQLkIREPDa-7"
      },
      "outputs": [],
      "source": [
        "@tf.keras.saving.register_keras_serializable()\n",
        "class Encoder(tf.keras.layers.Layer):\n",
        "  def __init__(self, *, num_layers, d_model, num_heads,\n",
        "               dff, vocab_size, dropout_rate=0.1):\n",
        "    super().__init__()\n",
        "\n",
        "    self.d_model = d_model\n",
        "    self.num_layers = num_layers\n",
        "\n",
        "    self.pos_embedding = PositionalEmbedding(\n",
        "        vocab_size=vocab_size, d_model=d_model)\n",
        "\n",
        "    self.enc_layers = [\n",
        "        EncoderLayer(d_model=d_model,\n",
        "                     num_heads=num_heads,\n",
        "                     dff=dff,\n",
        "                     dropout_rate=dropout_rate)\n",
        "        for _ in range(num_layers)]\n",
        "    self.dropout = tf.keras.layers.Dropout(dropout_rate)\n",
        "\n",
        "  def call(self, x):\n",
        "    # `x` is token-IDs shape: (batch, seq_len)\n",
        "    x = self.pos_embedding(x)  # Shape `(batch_size, seq_len, d_model)`.\n",
        "\n",
        "    # Add dropout.\n",
        "    x = self.dropout(x)\n",
        "\n",
        "    for i in range(self.num_layers):\n",
        "      x = self.enc_layers[i](x)\n",
        "\n",
        "    return x  # Shape `(batch_size, seq_len, d_model)`."
      ]
    },
    {
      "cell_type": "markdown",
      "metadata": {
        "id": "wD1fJRoAHxcV"
      },
      "source": [
        "## **Get the model**"
      ]
    },
    {
      "cell_type": "code",
      "execution_count": 30,
      "metadata": {
        "id": "eZLCRsK8ITrj"
      },
      "outputs": [],
      "source": [
        "from tensorflow.keras import Model, Input\n",
        "from tensorflow.keras.layers import Dense, TimeDistributed"
      ]
    },
    {
      "cell_type": "code",
      "execution_count": 31,
      "metadata": {
        "id": "BKK_Cz4oKJlV"
      },
      "outputs": [],
      "source": [
        "EMBEDDING_DIM = 100\n",
        "NUM_LAYERS = 4\n",
        "VOCAB_SIZE = len(word2idx_input)\n",
        "NUM_HEADS = 8\n",
        "MAX_LENGTH_INPUT = max_len_input"
      ]
    },
    {
      "cell_type": "code",
      "execution_count": 32,
      "metadata": {
        "id": "lZN-adDvH17g"
      },
      "outputs": [],
      "source": [
        "# Instantiate the encoder.\n",
        "encoder = Encoder(num_layers=NUM_LAYERS,\n",
        "                  d_model=EMBEDDING_DIM,\n",
        "                  num_heads=NUM_HEADS,\n",
        "                  dff=MAX_LENGTH_INPUT,\n",
        "                  vocab_size=VOCAB_SIZE)"
      ]
    },
    {
      "cell_type": "code",
      "execution_count": 33,
      "metadata": {
        "id": "dTxwzf34H78-",
        "colab": {
          "base_uri": "https://localhost:8080/"
        },
        "outputId": "0cd3e465-8e26-4359-f457-d6356a948e20"
      },
      "outputs": [
        {
          "output_type": "stream",
          "name": "stdout",
          "text": [
            "Model: \"model\"\n",
            "_________________________________________________________________\n",
            " Layer (type)                Output Shape              Param #   \n",
            "=================================================================\n",
            " input_1 (InputLayer)        [(None, 118)]             0         \n",
            "                                                                 \n",
            " encoder (Encoder)           (None, 118, 100)          11098372  \n",
            "                                                                 \n",
            " time_distributed (TimeDist  (None, 118, 37)           3737      \n",
            " ributed)                                                        \n",
            "                                                                 \n",
            "=================================================================\n",
            "Total params: 11102109 (42.35 MB)\n",
            "Trainable params: 11102109 (42.35 MB)\n",
            "Non-trainable params: 0 (0.00 Byte)\n",
            "_________________________________________________________________\n"
          ]
        }
      ],
      "source": [
        "input = Input(shape=(max_len_input,))\n",
        "x = encoder(input)\n",
        "out = TimeDistributed(Dense(num_labels, activation=\"softmax\"))(x)\n",
        "model = Model(input, out)\n",
        "model.summary()"
      ]
    },
    {
      "cell_type": "markdown",
      "metadata": {
        "id": "im-LMudgaG08"
      },
      "source": [
        "## **Train the model**"
      ]
    },
    {
      "cell_type": "code",
      "source": [
        "import keras.backend as K"
      ],
      "metadata": {
        "id": "cIXuTON65NIp"
      },
      "execution_count": 34,
      "outputs": []
    },
    {
      "cell_type": "code",
      "execution_count": 35,
      "metadata": {
        "id": "shiSfkK3aZT6"
      },
      "outputs": [],
      "source": [
        "BATCH_SIZE = 128\n",
        "EPOCHS = 10\n",
        "VALIDATION_SPLIT = 0.2"
      ]
    },
    {
      "cell_type": "code",
      "execution_count": 69,
      "metadata": {
        "id": "Puu6xMtrLX60"
      },
      "outputs": [],
      "source": [
        "@tf.keras.saving.register_keras_serializable()\n",
        "class CustomSchedule(tf.keras.optimizers.schedules.LearningRateSchedule):\n",
        "  def __init__(self, d_model, warmup_steps=4000):\n",
        "    super().__init__()\n",
        "\n",
        "    self.d_model = d_model\n",
        "    self.d_model = tf.cast(self.d_model, tf.float32)\n",
        "\n",
        "    self.warmup_steps = warmup_steps\n",
        "\n",
        "  def __call__(self, step):\n",
        "    step = tf.cast(step, dtype=tf.float32)\n",
        "    arg1 = tf.math.rsqrt(step)\n",
        "    arg2 = step * (self.warmup_steps ** -1.5)\n",
        "\n",
        "    return tf.math.rsqrt(self.d_model) * tf.math.minimum(arg1, arg2)\n",
        "\n",
        "  def get_config(self):\n",
        "    return {\"d_model\": self.d_model, \"warmup_steps\": self.warmup_steps}"
      ]
    },
    {
      "cell_type": "code",
      "execution_count": 70,
      "metadata": {
        "id": "0FBSe42dLbRm"
      },
      "outputs": [],
      "source": [
        "learning_rate = CustomSchedule(d_model=EMBEDDING_DIM)\n",
        "\n",
        "optimizer = tf.keras.optimizers.Adam(learning_rate, beta_1=0.9, beta_2=0.98,\n",
        "                                     epsilon=1e-9)"
      ]
    },
    {
      "cell_type": "code",
      "execution_count": 71,
      "metadata": {
        "id": "qsO6vWMpLo8C",
        "colab": {
          "base_uri": "https://localhost:8080/",
          "height": 466
        },
        "outputId": "550803b3-e30f-4962-caad-eebbd3b95af4"
      },
      "outputs": [
        {
          "output_type": "execute_result",
          "data": {
            "text/plain": [
              "Text(0.5, 0, 'Train Step')"
            ]
          },
          "metadata": {},
          "execution_count": 71
        },
        {
          "output_type": "display_data",
          "data": {
            "text/plain": [
              "<Figure size 640x480 with 1 Axes>"
            ],
            "image/png": "[encoded data removed]"
          },
          "metadata": {}
        }
      ],
      "source": [
        "plt.plot(learning_rate(tf.range(40000, dtype=tf.float32)))\n",
        "plt.ylabel('Learning Rate')\n",
        "plt.xlabel('Train Step')"
      ]
    },
    {
      "cell_type": "code",
      "source": [
        "def acc(y_true, y_pred):\n",
        "    # both are of shape N x T x K\n",
        "    targ = K.cast(y_true, dtype='int64')\n",
        "    pred = K.argmax(y_pred, axis=-1)\n",
        "    correct = K.cast(K.equal(targ, pred), dtype='float32')\n",
        "\n",
        "    # 0 is padding, don't include those\n",
        "    mask = K.cast(K.greater(targ, 0), dtype='float32')\n",
        "    n_correct = K.sum(mask * correct)\n",
        "    n_total = K.sum(mask)\n",
        "    return n_correct / n_total"
      ],
      "metadata": {
        "id": "ygF_2oSE5DA5"
      },
      "execution_count": 72,
      "outputs": []
    },
    {
      "cell_type": "code",
      "source": [
        "callback = tf.keras.callbacks.EarlyStopping(monitor='val_loss',\n",
        "                                            min_delta=1.5*1e-2,\n",
        "                                            patience=1)"
      ],
      "metadata": {
        "id": "Jng3qfo__Dxp"
      },
      "execution_count": 73,
      "outputs": []
    },
    {
      "cell_type": "code",
      "execution_count": 74,
      "metadata": {
        "id": "ENyNd7U_Luqs"
      },
      "outputs": [],
      "source": [
        "model.compile(optimizer=optimizer,\n",
        "              loss=\"sparse_categorical_crossentropy\",\n",
        "              metrics=[acc]\n",
        "              )"
      ]
    },
    {
      "cell_type": "code",
      "execution_count": 42,
      "metadata": {
        "id": "xaUhjCKIaISm",
        "colab": {
          "base_uri": "https://localhost:8080/"
        },
        "outputId": "23ead700-034d-4273-b432-9b2f91e2d4a1"
      },
      "outputs": [
        {
          "output_type": "stream",
          "name": "stdout",
          "text": [
            "Training model...\n",
            "Epoch 1/10\n",
            "15562/15562 [==============================] - 774s 49ms/step - loss: 0.6427 - acc: 0.7977 - val_loss: 0.4922 - val_acc: 0.8506\n",
            "Epoch 2/10\n",
            "15562/15562 [==============================] - 738s 47ms/step - loss: 0.4832 - acc: 0.8499 - val_loss: 0.4493 - val_acc: 0.8634\n",
            "Epoch 3/10\n",
            "15562/15562 [==============================] - 736s 47ms/step - loss: 0.4524 - acc: 0.8596 - val_loss: 0.4296 - val_acc: 0.8700\n",
            "Epoch 4/10\n",
            "15562/15562 [==============================] - 733s 47ms/step - loss: 0.4358 - acc: 0.8648 - val_loss: 0.4214 - val_acc: 0.8730\n"
          ]
        }
      ],
      "source": [
        "print('Training model...')\n",
        "r = model.fit(\n",
        "    input_sequences,\n",
        "    target_labels,\n",
        "    batch_size=BATCH_SIZE,\n",
        "    epochs=EPOCHS,\n",
        "    validation_split=VALIDATION_SPLIT,\n",
        "    callbacks=[callback]\n",
        ")"
      ]
    },
    {
      "cell_type": "code",
      "execution_count": 43,
      "metadata": {
        "id": "q2X0jK0MacEb"
      },
      "outputs": [],
      "source": [
        "import matplotlib.pyplot as plt"
      ]
    },
    {
      "cell_type": "code",
      "execution_count": 44,
      "metadata": {
        "id": "xX9GF8RLadsA",
        "colab": {
          "base_uri": "https://localhost:8080/",
          "height": 430
        },
        "outputId": "7d6da2c8-a919-4278-a466-bb06c4ba0619"
      },
      "outputs": [
        {
          "output_type": "display_data",
          "data": {
            "text/plain": [
              "<Figure size 640x480 with 1 Axes>"
            ],
            "image/png": "[encoded data removed]"
          },
          "metadata": {}
        }
      ],
      "source": [
        "# plot some data\n",
        "plt.plot(r.history['loss'], label='loss')\n",
        "plt.plot(r.history['val_loss'], label='val_loss')\n",
        "plt.legend()\n",
        "plt.show()"
      ]
    },
    {
      "cell_type": "code",
      "execution_count": 45,
      "metadata": {
        "id": "g6WtpLbfafkw",
        "colab": {
          "base_uri": "https://localhost:8080/",
          "height": 430
        },
        "outputId": "6b30e718-2b1c-4c5b-962c-1927aadab4ab"
      },
      "outputs": [
        {
          "output_type": "display_data",
          "data": {
            "text/plain": [
              "<Figure size 640x480 with 1 Axes>"
            ],
            "image/png": "[encoded data removed]"
          },
          "metadata": {}
        }
      ],
      "source": [
        "# accuracies\n",
        "plt.plot(r.history['acc'], label='acc')\n",
        "plt.plot(r.history['val_acc'], label='val_acc')\n",
        "plt.legend()\n",
        "plt.show()"
      ]
    },
    {
      "cell_type": "markdown",
      "metadata": {
        "id": "9yAhcPuma17T"
      },
      "source": [
        "## **Prediction Phase**"
      ]
    },
    {
      "cell_type": "code",
      "execution_count": 46,
      "metadata": {
        "id": "OkTmSoRfhYqL"
      },
      "outputs": [],
      "source": [
        "import numpy as np"
      ]
    },
    {
      "cell_type": "code",
      "execution_count": 47,
      "metadata": {
        "id": "aSn0ePe3a4GB"
      },
      "outputs": [],
      "source": [
        "def convert_text_to_sequences(text):\n",
        "  text_sequences = tokenizer_input.texts_to_sequences(text)\n",
        "  text_sequences = pad_sequences(text_sequences, maxlen=max_len_input, padding='post', value=0)\n",
        "  return text_sequences"
      ]
    },
    {
      "cell_type": "code",
      "source": [
        "def get_prediction(list_of_queries: list):\n",
        "  text_queries = convert_text_to_sequences(list_of_queries)\n",
        "  p = model.predict(text_queries)\n",
        "  p = np.argmax(p, axis=-1)\n",
        "  predict_output = []\n",
        "  for query in list_of_queries:\n",
        "     user_query_split = remove_punctuation(query).lower().split(\" \")\n",
        "     predict_output_temp = \"\"\n",
        "     for t in range(len(user_query_split)):\n",
        "       if user_query_split[t] not in idx2word.keys() or p[0][t] not in idx2word[user_query_split[t]].keys():\n",
        "         predict_output_temp += user_query_split[t] + \" \"\n",
        "       else:\n",
        "        predict_output_temp += str(idx2word[user_query_split[t]][p[0][t]]) + \" \"\n",
        "     predict_output.append(predict_output_temp)\n",
        "  return predict_output"
      ],
      "metadata": {
        "id": "oKqUGsCD7DXw"
      },
      "execution_count": 59,
      "outputs": []
    },
    {
      "cell_type": "code",
      "execution_count": 49,
      "metadata": {
        "id": "7IKqNV0sgkbm"
      },
      "outputs": [],
      "source": [
        "user_query = [input_texts[3000]]"
      ]
    },
    {
      "cell_type": "code",
      "execution_count": 50,
      "metadata": {
        "id": "hZgamtjXoYRH",
        "colab": {
          "base_uri": "https://localhost:8080/"
        },
        "outputId": "63d1dce6-f62b-480a-ad75-74b57109a9fd"
      },
      "outputs": [
        {
          "output_type": "stream",
          "name": "stdout",
          "text": [
            "1/1 [==============================] - 1s 683ms/step\n",
            "[' là nhưng quật thạo mọi lẫn ánh bực đốc điều gì em cũng chẳng hệ hãy biết ']\n",
            " là những quát tháo mỗi lần anh bực dọc điều gì em cũng chẳng hề hay biết\n"
          ]
        }
      ],
      "source": [
        "print(get_prediction(user_query))\n",
        "print(target_texts[3000])"
      ]
    },
    {
      "cell_type": "code",
      "source": [
        "print(get_prediction([\"Hom nay troi dep, troi trong xanh bao la\"]))"
      ],
      "metadata": {
        "id": "muz-4RhAjtqT",
        "colab": {
          "base_uri": "https://localhost:8080/"
        },
        "outputId": "035a9732-136d-4bd2-e391-d308f72f7860"
      },
      "execution_count": 51,
      "outputs": [
        {
          "output_type": "stream",
          "name": "stdout",
          "text": [
            "1/1 [==============================] - 0s 24ms/step\n",
            "['hôm nay trời đẹp trời trong xanh bao la ']\n"
          ]
        }
      ]
    },
    {
      "cell_type": "markdown",
      "source": [
        "## **Test Phase**"
      ],
      "metadata": {
        "id": "LE4wlrsN21DR"
      }
    },
    {
      "cell_type": "code",
      "source": [
        "with open('/content/drive/MyDrive/Datasets/Vietnamese Diacritics Restoration/test_X_250k.pkl', 'rb') as f:\n",
        "  input_test_texts = pkl.load(f)\n",
        "with open('/content/drive/MyDrive/Datasets/Vietnamese Diacritics Restoration/test_Y_250k.pkl', 'rb') as f:\n",
        "  target_test_texts = pkl.load(f)"
      ],
      "metadata": {
        "id": "GxaXOdFm22p2"
      },
      "execution_count": 52,
      "outputs": []
    },
    {
      "cell_type": "code",
      "source": [
        "indexes = [i for i in range(10)]"
      ],
      "metadata": {
        "id": "aWBI1GtN3AHZ"
      },
      "execution_count": 53,
      "outputs": []
    },
    {
      "cell_type": "code",
      "source": [
        "for index in indexes:\n",
        "  print(\"Predict: \" + get_prediction([input_test_texts[index]])[0])\n",
        "  print(\"Actual: \" + target_test_texts[index])"
      ],
      "metadata": {
        "id": "QtuwRzUs3E9O",
        "colab": {
          "base_uri": "https://localhost:8080/"
        },
        "outputId": "6ff861fb-4842-4947-de10-64320b2ee201"
      },
      "execution_count": 60,
      "outputs": [
        {
          "output_type": "stream",
          "name": "stdout",
          "text": [
            "1/1 [==============================] - 0s 29ms/step\n",
            "Predict:  cực bvtv khuyên cao su đứng nhưng thuốc cô hoắt chát hexaconazole saizole 5sc nằm trong nhóm này hoặc hỗn hợp những thuốc có hoạt chất hexaconazole với thuốc có hoạt chát carbendazim carbenzim 500fl nằm trong nhóm này dễ phun xít \n",
            "Actual: - Cục BVTV khuyến cáo sử dụng những thuốc có hoạt chất Hexaconazole (Saizole 5SC nằm trong nhóm này), hoặc hỗn hợp những thuốc có hoạt chất Hexaconazole với thuốc có hoạt chất Carbendazim (Carbenzim 500FL nằm trong nhóm này) để phun xịt.\n",
            "1/1 [==============================] - 0s 25ms/step\n",
            "Predict: khi sử dụng thuốc bà con cần lưu ý  phai phùn ướt đểu mắt đuổi cứa là \n",
            "Actual: Khi sử dụng thuốc bà con cần lưu ý: - Phải phun ướt đều mặt dưới của lá.\n",
            "1/1 [==============================] - 0s 25ms/step\n",
            "Predict: nếu nặng phải phun vài lần cách nhau 710 ngày cho đến khi bệnh ngừng phát triển \n",
            "Actual: Nếu nặng phải phun vài lần, cách nhau 7-10 ngày, cho đến khi bệnh ngưng phát triển.\n",
            "1/1 [==============================] - 0s 26ms/step\n",
            "Predict:  nèn vẫn động nhiều chứ vượn cùng phun động loạt trển điện rộng dẻ hận chế bênh từ ruộng khống phừn lẫy lần sang ruộng dà phùn \n",
            "Actual: - Nên vận động nhiều chủ vườn cùng phun đồng loạt trên diện rộng, để hạn chế bệnh từ ruộng không phun lây lan sang ruộng đã phun.\n",
            "1/1 [==============================] - 0s 26ms/step\n",
            "Predict:  phãi đứng những loai mấy phun có áp lực cao phửn tới sướng và đưa dược thuộc lén tận ngon cưa cay dễ thuộc tiếp xúc được với câc bố phận bí bênh \n",
            "Actual: - Phải dùng những loại máy phun có áp lực cao, phun tơi sương và đưa được thuốc lên tận ngọn của cây để thuốc tiếp xúc được với các bộ phận bị bệnh.\n",
            "1/1 [==============================] - 0s 27ms/step\n",
            "Predict: tìm lại ánh sáng từ methadone \n",
            "Actual: Tìm lại ánh sáng từ methadone.\n",
            "1/1 [==============================] - 0s 26ms/step\n",
            "Predict: giadinhnet  hàng trăm người nghiện không còn cánh vất và vì đổi thuốc tránh được nguy cơ lây nhiễm hivaids nhỏ methadone \n",
            "Actual: GiadinhNet - Hàng trăm người nghiện không còn cảnh vật vã vì đói thuốc, tránh được nguy cơ lây nhiễm HIV/AIDS nhờ methadone.\n",
            "1/1 [==============================] - 0s 25ms/step\n",
            "Predict: với sự nhiệt tình tâm huyết của các y bác sỹ cộng thêm hiệu quả của thuốc methadone hàng trăm người nghiện đã không còn cảnh vất vả vì đội thuốc tránh được nguy cơ lây nhiễm hivaids \n",
            "Actual: Với sự nhiệt tình, tâm huyết của các y, bác sỹ cộng thêm hiệu quả của thuốc methadone, hàng trăm người nghiện đã không còn cảnh vật vã vì đói thuốc, tránh được nguy cơ lây nhiễm HIV/AIDS.\n",
            "1/1 [==============================] - 0s 25ms/step\n",
            "Predict: vượt qua áo ánh trắng một ngày cuối tháng 4 chúng tôi có mặt tại cơ sở điều trị methadone tại quận lệ chân hãi phong \n",
            "Actual: Vượt qua ảo ảnh trắng Một ngày cuối tháng 4, chúng tôi có mặt tại cơ sở điều trị methadone tại quận Lê Chân (Hải Phòng).\n",
            "1/1 [==============================] - 0s 24ms/step\n",
            "Predict: đủ trời mưa tắm tả những người đến uống thuốc methadone rất đầy đủ có người ở xa hơn 10km cũng có mặt dùng gió \n",
            "Actual: Dù trời mưa tầm tã nhưng người đến uống thuốc methadone rất đầy đủ, có người ở xa hơn 10km cũng có mặt đúng giờ.\n"
          ]
        }
      ]
    },
    {
      "cell_type": "code",
      "source": [
        "word2idx['lam']"
      ],
      "metadata": {
        "id": "-H_D6nOO57Hs",
        "colab": {
          "base_uri": "https://localhost:8080/"
        },
        "outputId": "9012b65a-5117-4e4d-ee96-914add9fdb5a"
      },
      "execution_count": 61,
      "outputs": [
        {
          "output_type": "execute_result",
          "data": {
            "text/plain": [
              "{'làm': 1,\n",
              " 'lắm': 2,\n",
              " 'lầm': 3,\n",
              " 'lấm': 4,\n",
              " 'lâm': 5,\n",
              " 'lam': 6,\n",
              " 'lăm': 7,\n",
              " 'lẩm': 8,\n",
              " 'lạm': 9,\n",
              " 'lẫm': 10,\n",
              " 'lãm': 11,\n",
              " 'lảm': 12,\n",
              " 'lậm': 13,\n",
              " 'lám': 14,\n",
              " 'lằm': 15,\n",
              " 'lẳm': 16,\n",
              " 'lẵm': 17,\n",
              " 'lặm': 18}"
            ]
          },
          "metadata": {},
          "execution_count": 61
        }
      ]
    },
    {
      "cell_type": "markdown",
      "source": [
        "## **Save and Load the Model**"
      ],
      "metadata": {
        "id": "DCu5mtg349DF"
      }
    },
    {
      "cell_type": "code",
      "source": [
        "# serialize model to JSON\n",
        "model_json = model.to_json()\n",
        "with open(\"transformer.json\", \"w\") as json_file:\n",
        "    json_file.write(model_json)"
      ],
      "metadata": {
        "id": "vOMJVYZh0ox2"
      },
      "execution_count": 92,
      "outputs": []
    },
    {
      "cell_type": "code",
      "source": [
        "# serialize weights to HDF5\n",
        "model.save_weights(\"transformer_weights.h5\")\n",
        "print(\"Saved model to disk\")"
      ],
      "metadata": {
        "colab": {
          "base_uri": "https://localhost:8080/"
        },
        "id": "47RyRFF00pwM",
        "outputId": "5f51225b-a305-4afe-cc97-4d09ac10adfd"
      },
      "execution_count": 93,
      "outputs": [
        {
          "output_type": "stream",
          "name": "stdout",
          "text": [
            "Saved model to disk\n"
          ]
        }
      ]
    },
    {
      "cell_type": "code",
      "source": [
        "# load json and create model\n",
        "json_file = open('transformer.json', 'r')\n",
        "loaded_model_json = json_file.read()\n",
        "json_file.close()"
      ],
      "metadata": {
        "id": "jh2wlfk60vGs"
      },
      "execution_count": 94,
      "outputs": []
    },
    {
      "cell_type": "code",
      "source": [
        "loaded_model = tf.keras.models.model_from_json(loaded_model_json)\n",
        "# load weights into new model\n",
        "loaded_model.load_weights(\"transformer_weights.h5\")\n",
        "print(\"Loaded model from disk\")"
      ],
      "metadata": {
        "colab": {
          "base_uri": "https://localhost:8080/"
        },
        "id": "Yen1sjIe0y3i",
        "outputId": "f5f80674-5884-4b46-f4db-f0af3606694c"
      },
      "execution_count": 95,
      "outputs": [
        {
          "output_type": "stream",
          "name": "stdout",
          "text": [
            "Loaded model from disk\n"
          ]
        }
      ]
    },
    {
      "cell_type": "code",
      "source": [
        "loaded_model.predict(convert_text_to_sequences([\"Hom nay troi dep, troi trong xanh bao la\"]))"
      ],
      "metadata": {
        "colab": {
          "base_uri": "https://localhost:8080/"
        },
        "id": "NjQdSXwb1KJo",
        "outputId": "94a08e9e-510c-4c79-8b02-92d7129b48d8"
      },
      "execution_count": 96,
      "outputs": [
        {
          "output_type": "stream",
          "name": "stdout",
          "text": [
            "1/1 [==============================] - 1s 663ms/step\n"
          ]
        },
        {
          "output_type": "execute_result",
          "data": {
            "text/plain": [
              "array([[[4.1954212e-05, 9.9703670e-01, 7.0733664e-04, ...,\n",
              "         3.9014558e-14, 4.5882962e-14, 4.0421273e-14],\n",
              "        [4.7433252e-05, 9.8889577e-01, 5.1279408e-03, ...,\n",
              "         1.0168564e-14, 8.3536541e-15, 7.9034103e-15],\n",
              "        [1.4856822e-04, 7.0713973e-01, 2.4093349e-01, ...,\n",
              "         9.3589456e-14, 7.6881860e-14, 8.1473687e-14],\n",
              "        ...,\n",
              "        [3.8466189e-02, 7.9661745e-01, 3.5718262e-02, ...,\n",
              "         8.1161006e-10, 9.5979702e-10, 9.7514963e-10],\n",
              "        [3.8362682e-02, 7.9533935e-01, 3.6467139e-02, ...,\n",
              "         8.0892437e-10, 9.5291675e-10, 9.7064445e-10],\n",
              "        [3.8410153e-02, 7.9470867e-01, 3.7272420e-02, ...,\n",
              "         7.9018569e-10, 9.2862962e-10, 9.4601360e-10]]], dtype=float32)"
            ]
          },
          "metadata": {},
          "execution_count": 96
        }
      ]
    },
    {
      "cell_type": "code",
      "source": [
        "import pickle"
      ],
      "metadata": {
        "id": "qoH-9mxq79Dp"
      },
      "execution_count": 85,
      "outputs": []
    },
    {
      "cell_type": "code",
      "source": [
        "# save the model to disk\n",
        "filename = 'tokenizer.pickle'\n",
        "pickle.dump(tokenizer_input, open(filename, 'wb'))"
      ],
      "metadata": {
        "id": "uBW3Z9U-7RgE"
      },
      "execution_count": 86,
      "outputs": []
    },
    {
      "cell_type": "code",
      "source": [
        "# load the model from disk\n",
        "loaded_tokenizer = pickle.load(open(filename, 'rb'))"
      ],
      "metadata": {
        "id": "tFQPOjTm8COd"
      },
      "execution_count": 87,
      "outputs": []
    },
    {
      "cell_type": "code",
      "source": [
        "loaded_tokenizer.texts_to_sequences([\"Hom nay troi dep, troi trong xanh bao la\"])"
      ],
      "metadata": {
        "colab": {
          "base_uri": "https://localhost:8080/"
        },
        "id": "06Sqb6x_8HGE",
        "outputId": "04c8c0b0-970a-4867-8871-f97093ae8e98"
      },
      "execution_count": 88,
      "outputs": [
        {
          "output_type": "execute_result",
          "data": {
            "text/plain": [
              "[[408, 29, 441, 343, 441, 10, 484, 70, 3]]"
            ]
          },
          "metadata": {},
          "execution_count": 88
        }
      ]
    },
    {
      "cell_type": "code",
      "source": [
        "import json"
      ],
      "metadata": {
        "id": "iBfMvKC18TBN"
      },
      "execution_count": 89,
      "outputs": []
    },
    {
      "cell_type": "code",
      "source": [
        "# Convert and write JSON object to file\n",
        "with open(\"index_to_word.json\", \"w\") as outfile:\n",
        "    json.dump(idx2word, outfile)"
      ],
      "metadata": {
        "id": "Zn-QlGMr8TuO"
      },
      "execution_count": 91,
      "outputs": []
    }
  ],
  "metadata": {
    "colab": {
      "provenance": [],
      "machine_shape": "hm",
      "gpuType": "A100"
    },
    "kernelspec": {
      "display_name": "Python 3",
      "name": "python3"
    },
    "language_info": {
      "name": "python"
    },
    "accelerator": "GPU"
  },
  "nbformat": 4,
  "nbformat_minor": 0
}